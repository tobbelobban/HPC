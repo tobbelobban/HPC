{
  "nbformat": 4,
  "nbformat_minor": 0,
  "metadata": {
    "colab": {
      "name": "jledeus-lab7.ipynb",
      "version": "0.3.2",
      "provenance": [],
      "collapsed_sections": [],
      "include_colab_link": true
    },
    "kernelspec": {
      "name": "python3",
      "display_name": "Python 3"
    }
  },
  "cells": [
    {
      "cell_type": "markdown",
      "metadata": {
        "id": "view-in-github",
        "colab_type": "text"
      },
      "source": [
        "<a href=\"https://colab.research.google.com/github/tobzed/HPC/blob/master/assignment1/assignment1_boxplot.ipynb\" target=\"_parent\"><img src=\"https://colab.research.google.com/assets/colab-badge.svg\" alt=\"Open In Colab\"/></a>"
      ]
    },
    {
      "metadata": {
        "id": "jPZdyJRlcC9H",
        "colab_type": "code",
        "outputId": "f7d6e6cd-0205-4b2c-f78f-d3b9b51b2ad8",
        "colab": {
          "base_uri": "https://localhost:8080/",
          "height": 362
        }
      },
      "cell_type": "code",
      "source": [
        "import numpy as np\n",
        "import matplotlib.pyplot as plt\n",
        "\n",
        "\n",
        "\n",
        "d1000 = [\n",
        "0.00000247,\n",
        "0.00000250,\n",
        "0.00000248,\n",
        "0.00000242,\n",
        "0.00000248,\n",
        "0.00000248,\n",
        "0.00000248,\n",
        "0.00000248,\n",
        "0.00000258,\n",
        "0.00000248]\n",
        "\n",
        "d10000 = [\n",
        "0.00002457,\n",
        "0.00002453,\n",
        "0.00002458,\n",
        "0.00002438,\n",
        "0.00002457,\n",
        "0.00002438,\n",
        "0.00002426,\n",
        "0.00002426,\n",
        "0.00002499,\n",
        "0.00002431]\n",
        "\n",
        "d5000 = [\n",
        " 0.00001241,\n",
        " 0.00001252,\n",
        " 0.00001223,\n",
        " 0.00001212,\n",
        " 0.00001220,\n",
        " 0.00001223,\n",
        " 0.00001220,\n",
        " 0.00001232,\n",
        " 0.00001221,\n",
        " 0.00001213\n",
        "]\n",
        "\n",
        "d50000 = [ \n",
        " 0.00012222,\n",
        " 0.00012164,\n",
        " 0.00012192,\n",
        " 0.00012211,\n",
        " 0.00012177,\n",
        " 0.00012175,\n",
        " 0.00012166,\n",
        " 0.00012231,\n",
        " 0.00012238,\n",
        " 0.00012210\n",
        "]\n",
        "\n",
        "d100000 = [\n",
        " 0.00024420,\n",
        " 0.00024418,\n",
        " 0.00024386,\n",
        " 0.00024449,\n",
        " 0.00024457,\n",
        " 0.00024541,\n",
        " 0.00024325,\n",
        " 0.00024384,\n",
        " 0.00024447,\n",
        " 0.00024508\n",
        "]\n",
        "\n",
        "\n",
        "\n",
        "data = [d1000,d5000,d10000, d50000, d100000]\n",
        "fig7, ax7 = plt.subplots()\n",
        "ax7.set_title('Multiple Samples with Different sizes')\n",
        "ax7.boxplot(data)\n",
        "plt.xticks([1, 2, 3, 4, 5], ['1000', '5000', '10000', '50000', '100000'])\n",
        "plt.show()"
      ],
      "execution_count": 0,
      "outputs": [
        {
          "output_type": "display_data",
          "data": {
            "image/png": "[encoded data removed]",
            "text/plain": [
              "<Figure size 576x396 with 1 Axes>"
            ]
          },
          "metadata": {
            "tags": []
          }
        }
      ]
    }
  ]
}